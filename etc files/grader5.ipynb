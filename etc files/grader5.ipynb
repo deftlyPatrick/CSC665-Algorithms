{
 "cells": [
  {
   "cell_type": "code",
   "execution_count": 1,
   "metadata": {},
   "outputs": [],
   "source": [
    "%reload_ext autoreload\n",
    "%autoreload 2\n",
    "%matplotlib inline"
   ]
  },
  {
   "cell_type": "code",
   "execution_count": 2,
   "metadata": {},
   "outputs": [
    {
     "ename": "ModuleNotFoundError",
     "evalue": "No module named 'csc665'",
     "output_type": "error",
     "traceback": [
      "\u001b[0;31m---------------------------------------------------------------------------\u001b[0m",
      "\u001b[0;31mModuleNotFoundError\u001b[0m                       Traceback (most recent call last)",
      "\u001b[0;32m<ipython-input-2-f7acc6298513>\u001b[0m in \u001b[0;36m<module>\u001b[0;34m\u001b[0m\n\u001b[1;32m      6\u001b[0m \u001b[0;34m\u001b[0m\u001b[0m\n\u001b[1;32m      7\u001b[0m \u001b[0;32mimport\u001b[0m \u001b[0msklearn\u001b[0m\u001b[0;34m.\u001b[0m\u001b[0mtree\u001b[0m\u001b[0;34m\u001b[0m\u001b[0;34m\u001b[0m\u001b[0m\n\u001b[0;32m----> 8\u001b[0;31m \u001b[0;32mimport\u001b[0m \u001b[0mcsc665\u001b[0m\u001b[0;34m.\u001b[0m\u001b[0mtree\u001b[0m\u001b[0;34m\u001b[0m\u001b[0;34m\u001b[0m\u001b[0m\n\u001b[0m\u001b[1;32m      9\u001b[0m \u001b[0;32mfrom\u001b[0m \u001b[0msklearn\u001b[0m\u001b[0;34m.\u001b[0m\u001b[0mmodel_selection\u001b[0m \u001b[0;32mimport\u001b[0m \u001b[0mtrain_test_split\u001b[0m\u001b[0;34m\u001b[0m\u001b[0;34m\u001b[0m\u001b[0m\n\u001b[1;32m     10\u001b[0m \u001b[0;34m\u001b[0m\u001b[0m\n",
      "\u001b[0;31mModuleNotFoundError\u001b[0m: No module named 'csc665'"
     ]
    }
   ],
   "source": [
    "import numpy as np\n",
    "import pandas as pd\n",
    "import matplotlib.pyplot as plt\n",
    "from sklearn import datasets\n",
    "import unittest as ut\n",
    "\n",
    "import sklearn.tree\n",
    "import csc665.tree\n",
    "from sklearn.model_selection import train_test_split\n",
    "\n",
    "class Object(object): pass\n",
    "class TC(ut.TestCase): pass\n",
    "tc = TC()"
   ]
  },
  {
   "cell_type": "code",
   "execution_count": 3,
   "metadata": {},
   "outputs": [],
   "source": [
    "_iris = Object()\n",
    "_iris.RAND_STATE = 1234\n",
    "_iris.iris = datasets.load_iris()\n"
   ]
  },
  {
   "cell_type": "code",
   "execution_count": 4,
   "metadata": {},
   "outputs": [],
   "source": [
    "_iris.X = pd.DataFrame(data=_iris.iris.data, columns=_iris.iris.feature_names)\n",
    "_iris.y = _iris.iris.target"
   ]
  },
  {
   "cell_type": "code",
   "execution_count": 5,
   "metadata": {},
   "outputs": [],
   "source": [
    "_iris.X_train, _iris.X_test, _iris.y_train, _iris.y_test = \\\n",
    "    train_test_split(_iris.X, _iris.y, test_size=0.2, stratify=_iris.y,\n",
    "                    random_state=_iris.RAND_STATE)"
   ]
  },
  {
   "cell_type": "code",
   "execution_count": 6,
   "metadata": {},
   "outputs": [
    {
     "data": {
      "text/plain": [
       "((120, 4), (30, 4), (120,), (30,))"
      ]
     },
     "execution_count": 6,
     "metadata": {},
     "output_type": "execute_result"
    }
   ],
   "source": [
    "_iris.X_train.shape, _iris.X_test.shape, _iris.y_train.shape, _iris.y_test.shape"
   ]
  },
  {
   "cell_type": "code",
   "execution_count": 7,
   "metadata": {},
   "outputs": [
    {
     "data": {
      "text/plain": [
       "(array([0, 1, 2]), array([40, 40, 40]))"
      ]
     },
     "execution_count": 7,
     "metadata": {},
     "output_type": "execute_result"
    }
   ],
   "source": [
    "\n",
    "np.unique(_iris.y_train, return_counts=True)"
   ]
  },
  {
   "cell_type": "code",
   "execution_count": 8,
   "metadata": {},
   "outputs": [
    {
     "data": {
      "text/plain": [
       "(array([0, 1, 2]), array([10, 10, 10]))"
      ]
     },
     "execution_count": 8,
     "metadata": {},
     "output_type": "execute_result"
    }
   ],
   "source": [
    "np.unique(_iris.y_test, return_counts=True)"
   ]
  },
  {
   "cell_type": "code",
   "execution_count": 9,
   "metadata": {},
   "outputs": [],
   "source": [
    "\n",
    "from sklearn.metrics import accuracy_score, precision_score, recall_score, confusion_matrix\n",
    "\n",
    "def compare_classifiers(sk_tree, our_tree, X_train, X_test, y_train, y_test):\n",
    "    sk_tree.fit(X_train, y_train)\n",
    "    our_tree.fit(X_train, y_train)\n",
    "\n",
    "    # Accuracy\n",
    "    expected = accuracy_score(y_train, sk_tree.predict(X_train))\n",
    "    actual = accuracy_score(y_train, our_tree.predict(X_train))\n",
    "    print(\"Train Accuracy - sklearn, ours:\", expected, actual)\n",
    "    tc.assertLess(abs(expected - actual), 0.19)\n",
    "\n",
    "    expected = accuracy_score(y_test, sk_tree.predict(X_test))\n",
    "    actual = accuracy_score(y_test, our_tree.predict(X_test))\n",
    "    print(\"Test Accuracy - sklearn, ours:\", expected, actual)\n",
    "    tc.assertLess(abs(expected - actual), 0.19)\n",
    "    \n",
    "    # Precision\n",
    "    expected = precision_score(y_train, sk_tree.predict(X_train), average=\"macro\")\n",
    "    actual = precision_score(y_train, our_tree.predict(X_train), average=\"macro\")\n",
    "    print(\"Train Precision - sklearn, ours:\", expected, actual)\n",
    "    tc.assertLess(abs(expected - actual), 0.19)\n",
    "\n",
    "    expected = precision_score(y_test, sk_tree.predict(X_test), average=\"macro\")\n",
    "    actual = precision_score(y_test, our_tree.predict(X_test), average=\"macro\")\n",
    "    print(\"Train Precision - sklearn, ours:\", expected, actual)\n",
    "    tc.assertLess(abs(expected - actual), 0.19)\n",
    "    \n",
    "    expected = precision_score(y_test, sk_tree.predict(X_test), average=None)\n",
    "    actual = precision_score(y_test, our_tree.predict(X_test), average=None)\n",
    "#     tc.assertLess(abs(expected - actual), 0.19)\n",
    "#     tc.assertListEqual(expected, actual)\n",
    "    print(\"Test Precision - sklearn, ours:\", expected, actual)\n",
    "    \n",
    "    # Recall\n",
    "    expected = recall_score(y_train, sk_tree.predict(X_train), average=\"macro\")\n",
    "    actual = recall_score(y_train, our_tree.predict(X_train), average=\"macro\")\n",
    "    print(\"Train Recall - sklearn, ours:\", expected, actual)\n",
    "    tc.assertLess(abs(expected - actual), 0.19)\n",
    "\n",
    "    expected = recall_score(y_test, sk_tree.predict(X_test), average=\"macro\")\n",
    "    actual = recall_score(y_test, our_tree.predict(X_test), average=\"macro\")\n",
    "    print(\"Test Recall - sklearn, ours:\", expected, actual)\n",
    "    tc.assertLess(abs(expected - actual), 0.19)\n",
    "    \n",
    "    expected = recall_score(y_test, sk_tree.predict(X_test), average=None)\n",
    "    actual = recall_score(y_test, our_tree.predict(X_test), average=None)\n",
    "#     tc.assertLess(abs(expected - actual), 0.19)\n",
    "#     tc.assertListEqual(expected, actual)\n",
    "    print(\"Test Recall - sklearn, ours:\", expected, actual)"
   ]
  },
  {
   "cell_type": "code",
   "execution_count": 10,
   "metadata": {},
   "outputs": [
    {
     "name": "stdout",
     "output_type": "stream",
     "text": [
      "Train Accuracy - sklearn, ours: 1.0 0.9833333333333333\n",
      "Test Accuracy - sklearn, ours: 0.9333333333333333 0.9333333333333333\n",
      "Train Precision - sklearn, ours: 1.0 0.9833333333333334\n",
      "Train Precision - sklearn, ours: 0.9333333333333332 0.9333333333333332\n",
      "Test Precision - sklearn, ours: [1.  0.9 0.9] [1.  0.9 0.9]\n",
      "Train Recall - sklearn, ours: 1.0 0.9833333333333334\n",
      "Test Recall - sklearn, ours: 0.9333333333333332 0.9333333333333332\n",
      "Test Recall - sklearn, ours: [1.  0.9 0.9] [1.  0.9 0.9]\n"
     ]
    }
   ],
   "source": [
    "compare_classifiers(sklearn.tree.DecisionTreeClassifier(),\n",
    "                    tree.DecisionTreeClassifier(max_depth=100, min_samples_leaf=1),\n",
    "                    _iris.X_train, _iris.X_test, _iris.y_train, _iris.y_test)"
   ]
  },
  {
   "cell_type": "code",
   "execution_count": 11,
   "metadata": {},
   "outputs": [
    {
     "name": "stdout",
     "output_type": "stream",
     "text": [
      "Train Accuracy - sklearn, ours: 0.6666666666666666 0.6666666666666666\n",
      "Test Accuracy - sklearn, ours: 0.6666666666666666 0.6666666666666666\n",
      "Train Precision - sklearn, ours: 0.5 0.5\n",
      "Train Precision - sklearn, ours: 0.5 0.5\n",
      "Test Precision - sklearn, ours: [1.  0.5 0. ] [1.  0.5 0. ]\n",
      "Train Recall - sklearn, ours: 0.6666666666666666 0.6666666666666666\n",
      "Test Recall - sklearn, ours: 0.6666666666666666 0.6666666666666666\n",
      "Test Recall - sklearn, ours: [1. 1. 0.] [1. 1. 0.]\n"
     ]
    },
    {
     "name": "stderr",
     "output_type": "stream",
     "text": [
      "/Users/patrick/anaconda2/envs/py36/lib/python3.7/site-packages/sklearn/metrics/classification.py:1143: UndefinedMetricWarning: Precision is ill-defined and being set to 0.0 in labels with no predicted samples.\n",
      "  'precision', 'predicted', average, warn_for)\n",
      "/Users/patrick/anaconda2/envs/py36/lib/python3.7/site-packages/sklearn/metrics/classification.py:1143: UndefinedMetricWarning: Precision is ill-defined and being set to 0.0 in labels with no predicted samples.\n",
      "  'precision', 'predicted', average, warn_for)\n",
      "/Users/patrick/anaconda2/envs/py36/lib/python3.7/site-packages/sklearn/metrics/classification.py:1143: UndefinedMetricWarning: Precision is ill-defined and being set to 0.0 in labels with no predicted samples.\n",
      "  'precision', 'predicted', average, warn_for)\n"
     ]
    }
   ],
   "source": [
    "compare_classifiers(sklearn.tree.DecisionTreeClassifier(max_depth=1),\n",
    "                    tree.DecisionTreeClassifier(max_depth=1, min_samples_leaf=1),\n",
    "                    _iris.X_train, _iris.X_test, _iris.y_train, _iris.y_test)"
   ]
  },
  {
   "cell_type": "code",
   "execution_count": 12,
   "metadata": {},
   "outputs": [
    {
     "name": "stdout",
     "output_type": "stream",
     "text": [
      "Train Accuracy - sklearn, ours: 0.9666666666666667 0.9666666666666667\n",
      "Test Accuracy - sklearn, ours: 0.9333333333333333 0.9333333333333333\n",
      "Train Precision - sklearn, ours: 0.9696969696969697 0.9696969696969697\n",
      "Train Precision - sklearn, ours: 0.9333333333333332 0.9333333333333332\n",
      "Test Precision - sklearn, ours: [1.  0.9 0.9] [1.  0.9 0.9]\n",
      "Train Recall - sklearn, ours: 0.9666666666666667 0.9666666666666667\n",
      "Test Recall - sklearn, ours: 0.9333333333333332 0.9333333333333332\n",
      "Test Recall - sklearn, ours: [1.  0.9 0.9] [1.  0.9 0.9]\n"
     ]
    }
   ],
   "source": [
    "compare_classifiers(sklearn.tree.DecisionTreeClassifier(min_samples_leaf=10),\n",
    "                     tree.DecisionTreeClassifier(max_depth=100, min_samples_leaf=10),\n",
    "                    _iris.X_train, _iris.X_test, _iris.y_train, _iris.y_test)"
   ]
  }
 ],
 "metadata": {
  "kernelspec": {
   "display_name": "Python 3",
   "language": "python",
   "name": "python3"
  },
  "language_info": {
   "codemirror_mode": {
    "name": "ipython",
    "version": 3
   },
   "file_extension": ".py",
   "mimetype": "text/x-python",
   "name": "python",
   "nbconvert_exporter": "python",
   "pygments_lexer": "ipython3",
   "version": "3.7.2"
  }
 },
 "nbformat": 4,
 "nbformat_minor": 2
}
