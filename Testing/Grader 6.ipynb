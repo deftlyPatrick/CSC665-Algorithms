{
 "cells": [
  {
   "cell_type": "code",
   "execution_count": 1,
   "metadata": {},
   "outputs": [],
   "source": [
    "%reload_ext autoreload\n",
    "%autoreload 2\n",
    "\n",
    "import numpy as np\n",
    "import csc665.perceptron as csc665_perceptron\n",
    "import unittest as ut\n",
    "\n",
    "class Object(object): pass\n",
    "class TC(ut.TestCase): pass\n",
    "tc = TC()"
   ]
  },
  {
   "cell_type": "code",
   "execution_count": 2,
   "metadata": {},
   "outputs": [],
   "source": [
    "def test_result(nn, test_list):\n",
    "    for x, y_true in test_list:\n",
    "        y_hat = nn.forward(np.array(x))\n",
    "#         print(\"y_hat: \", y_hat)\n",
    "#         print(\"np.array(y_true): \", np.array(y_true))\n",
    "        tc.assertEqual(y_hat, np.array(y_true))\n",
    "        print(\"Test Case: passed\")"
   ]
  },
  {
   "cell_type": "code",
   "execution_count": 3,
   "metadata": {},
   "outputs": [],
   "source": [
    "AND = Object()\n",
    "AND.nn = csc665_perceptron.BooleanFactory().create_AND()"
   ]
  },
  {
   "cell_type": "code",
   "execution_count": 4,
   "metadata": {},
   "outputs": [
    {
     "name": "stdout",
     "output_type": "stream",
     "text": [
      "Test Case: passed\n",
      "Test Case: passed\n",
      "Test Case: passed\n",
      "Test Case: passed\n"
     ]
    }
   ],
   "source": [
    "test_result(AND.nn, [\n",
    "    ([0, 0], 0),\n",
    "    ([1, 0], 0),\n",
    "    ([0, 1], 0),\n",
    "    ([1, 1], 1)\n",
    "])"
   ]
  },
  {
   "cell_type": "code",
   "execution_count": 5,
   "metadata": {},
   "outputs": [
    {
     "name": "stdout",
     "output_type": "stream",
     "text": [
      "Test Case: passed\n",
      "Test Case: passed\n",
      "Test Case: passed\n",
      "Test Case: passed\n"
     ]
    }
   ],
   "source": [
    "OR = Object()\n",
    "OR.nn = csc665_perceptron.BooleanFactory().create_OR()\n",
    "test_result(OR.nn, [\n",
    "    ([0, 0], 0),\n",
    "    ([1, 0], 1),\n",
    "    ([0, 1], 1), \n",
    "    ([1, 1], 1)\n",
    "])"
   ]
  },
  {
   "cell_type": "code",
   "execution_count": 6,
   "metadata": {},
   "outputs": [
    {
     "name": "stdout",
     "output_type": "stream",
     "text": [
      "Test Case: passed\n",
      "Test Case: passed\n"
     ]
    }
   ],
   "source": [
    "NOT = Object()\n",
    "NOT.nn = csc665_perceptron.BooleanFactory().create_NOT()\n",
    "test_result(NOT.nn, [\n",
    "    (0, 1),\n",
    "    (1, 0)\n",
    "])"
   ]
  },
  {
   "cell_type": "code",
   "execution_count": 7,
   "metadata": {},
   "outputs": [
    {
     "name": "stdout",
     "output_type": "stream",
     "text": [
      "Test Case: passed\n",
      "Test Case: passed\n",
      "Test Case: passed\n",
      "Test Case: passed\n"
     ]
    }
   ],
   "source": [
    "test_result(\n",
    "    csc665_perceptron.BooleanFactory().create_XNOR(), \n",
    "    [([0, 0], 1),\n",
    "     ([1, 0], 0),\n",
    "     ([0, 1], 0),\n",
    "     ([1, 1], 1)]\n",
    ")"
   ]
  },
  {
   "cell_type": "code",
   "execution_count": 8,
   "metadata": {},
   "outputs": [
    {
     "name": "stdout",
     "output_type": "stream",
     "text": [
      "Test Case: passed\n",
      "Test Case: passed\n",
      "Test Case: passed\n",
      "Test Case: passed\n"
     ]
    }
   ],
   "source": [
    "test_result(\n",
    "    csc665_perceptron.BooleanFactory().create_XOR(),\n",
    "    [([0, 0], 0),\n",
    "     ([1, 0], 1),\n",
    "     ([0, 1], 1),\n",
    "     ([1, 1], 0)]\n",
    ")"
   ]
  }
 ],
 "metadata": {
  "kernelspec": {
   "display_name": "Python 3",
   "language": "python",
   "name": "python3"
  },
  "language_info": {
   "codemirror_mode": {
    "name": "ipython",
    "version": 3
   },
   "file_extension": ".py",
   "mimetype": "text/x-python",
   "name": "python",
   "nbconvert_exporter": "python",
   "pygments_lexer": "ipython3",
   "version": "3.6.8"
  }
 },
 "nbformat": 4,
 "nbformat_minor": 2
}
