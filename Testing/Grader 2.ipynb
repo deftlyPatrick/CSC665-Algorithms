{
 "cells": [
  {
   "cell_type": "code",
   "execution_count": 1,
   "metadata": {},
   "outputs": [],
   "source": [
    "%reload_ext autoreload\n",
    "%autoreload 2\n",
    "%matplotlib inline"
   ]
  },
  {
   "cell_type": "code",
   "execution_count": 2,
   "metadata": {},
   "outputs": [],
   "source": [
    "import csc665.tree\n",
    "\n",
    "# Use Instructor's code for basic functions to avoid various inconsistencies\n",
    "# For Students: you can change this to use YOUR code if you fix any errors.\n",
    "from csc665 import features, metrics"
   ]
  },
  {
   "cell_type": "code",
   "execution_count": 3,
   "metadata": {},
   "outputs": [],
   "source": [
    "import numpy as np\n",
    "import pandas as pd\n",
    "from sklearn.metrics import mean_squared_error, r2_score\n",
    "import unittest as ut\n",
    "import sklearn.tree\n",
    "\n",
    "class Object(object): pass\n",
    "class TC(ut.TestCase): pass\n",
    "tc = TC()"
   ]
  },
  {
   "cell_type": "code",
   "execution_count": 4,
   "metadata": {},
   "outputs": [],
   "source": [
    "csv_df = pd.read_csv(\"/Users/patrick/Documents/csc665/Melbourne_housing_FULL.csv\")"
   ]
  },
  {
   "cell_type": "code",
   "execution_count": 5,
   "metadata": {},
   "outputs": [],
   "source": [
    "_mel = features.Object()\n",
    "_mel.X, _mel.y = features.preprocess_ver_1(csv_df, \"Price\")"
   ]
  },
  {
   "cell_type": "code",
   "execution_count": 6,
   "metadata": {},
   "outputs": [
    {
     "name": "stdout",
     "output_type": "stream",
     "text": [
      "(8887, 20) (8887,)\n"
     ]
    }
   ],
   "source": [
    "print(_mel.X.shape, _mel.y.shape)\n",
    "\n",
    "assert _mel.X.shape[0] == 8887, \"X.shape\"\n",
    "assert _mel.y.shape[0] == 8887, \"y.shape\""
   ]
  },
  {
   "cell_type": "code",
   "execution_count": 7,
   "metadata": {},
   "outputs": [],
   "source": [
    "_mel.X_train, _mel.X_test, _mel.y_train, _mel.y_test = features.train_test_split(\n",
    "    _mel.X, _mel.y, test_size=0.2, shuffle=True, random_state=None)"
   ]
  },
  {
   "cell_type": "code",
   "execution_count": 8,
   "metadata": {},
   "outputs": [
    {
     "name": "stdout",
     "output_type": "stream",
     "text": [
      "(8887, 20) (7109, 20) (1778, 20) (7109,) (1778,)\n"
     ]
    }
   ],
   "source": [
    "print(_mel.X.shape, _mel.X_train.shape, _mel.X_test.shape, _mel.y_train.shape, _mel.y_test.shape)\n",
    "\n",
    "tc.assertEqual(_mel.X_test.shape[0], _mel.y_test.shape[0])\n",
    "tc.assertEqual(_mel.X_train.shape[0], _mel.y_train.shape[0])"
   ]
  },
  {
   "cell_type": "code",
   "execution_count": 9,
   "metadata": {},
   "outputs": [],
   "source": [
    "if \"DataFrame\" in str(type(_mel.y_train)):\n",
    "    _mel.y_train = _mel.y_train[\"Price\"].values\n",
    "\n",
    "if \"DataFrame\" in str(type(_mel.y_test)):\n",
    "    _mel.y_test = _mel.y_test[\"Price\"].values"
   ]
  },
  {
   "cell_type": "code",
   "execution_count": 10,
   "metadata": {},
   "outputs": [
    {
     "name": "stdout",
     "output_type": "stream",
     "text": [
      "CPU times: user 4.72 s, sys: 39.3 ms, total: 4.76 s\n",
      "Wall time: 4.77 s\n"
     ]
    }
   ],
   "source": [
    "from sklearn.ensemble import RandomForestRegressor\n",
    "rf = RandomForestRegressor(n_estimators=100 , random_state=17)\n",
    "%time _ = rf.fit(_mel.X_train, _mel.y_train)"
   ]
  },
  {
   "cell_type": "code",
   "execution_count": 11,
   "metadata": {},
   "outputs": [
    {
     "name": "stdout",
     "output_type": "stream",
     "text": [
      "64859701329.99842 64859701329.99842\n"
     ]
    }
   ],
   "source": [
    "_st = Object()\n",
    "_act = Object()\n",
    "\n",
    "_st.mse = metrics.mse(rf.predict(_mel.X_test), _mel.y_test)\n",
    "_act.mse = mean_squared_error(_mel.y_test, rf.predict(_mel.X_test))\n",
    "\n",
    "print(_st.mse, _act.mse)\n",
    "\n",
    "tc.assertAlmostEqual(_st.mse, _act.mse, delta=1)"
   ]
  },
  {
   "cell_type": "code",
   "execution_count": 12,
   "metadata": {},
   "outputs": [
    {
     "name": "stdout",
     "output_type": "stream",
     "text": [
      "0.83954319791047 0.8395431979104702\n"
     ]
    }
   ],
   "source": [
    "_st.r2_test = metrics.rsq(rf.predict(_mel.X_test), _mel.y_test)\n",
    "_act.r2_test = r2_score(_mel.y_test, rf.predict(_mel.X_test))\n",
    "\n",
    "print(_st.r2_test, _act.r2_test)\n",
    "tc.assertAlmostEqual(_st.r2_test, _act.r2_test, places=3)\n",
    "tc.assertGreater(_st.r2_test, 0.6)"
   ]
  },
  {
   "cell_type": "code",
   "execution_count": 13,
   "metadata": {},
   "outputs": [
    {
     "name": "stdout",
     "output_type": "stream",
     "text": [
      "0.9731946349837682 0.9731946349837682\n"
     ]
    }
   ],
   "source": [
    "\n",
    "_st.r2_train = metrics.rsq(rf.predict(_mel.X_train), _mel.y_train)\n",
    "_act.r2_train = r2_score(_mel.y_train, rf.predict(_mel.X_train))\n",
    "\n",
    "print(_st.r2_train, _act.r2_train)\n",
    "tc.assertAlmostEqual(_st.r2_train, _act.r2_train, places=3)\n",
    "tc.assertGreater(_st.r2_train, 0.6)"
   ]
  },
  {
   "cell_type": "code",
   "execution_count": 14,
   "metadata": {},
   "outputs": [],
   "source": [
    "def compare_trees(sktree, our_tree, X_train, X_test, y_train, y_test):\n",
    "    sktree.fit(X_train, y_train)\n",
    "    our_tree.fit(X_train, y_train)\n",
    "#     print(our_tree)\n",
    "    \n",
    "    expected = metrics.rsq(sktree.predict(X_train), y_train)\n",
    "    actual = metrics.rsq(our_tree.predict(X_train), y_train)\n",
    "    print(\"Train, sklearn, ours:\", expected, actual)\n",
    "    tc.assertAlmostEqual(expected, actual, places=1)\n",
    "    \n",
    "    expected = metrics.rsq(sktree.predict(X_test), y_test)\n",
    "    actual = metrics.rsq(our_tree.predict(X_test), y_test)\n",
    "    print(\"Test, sklearn, ours:\", expected, actual)\n",
    "    tc.assertLess(abs(expected - actual), 0.19)"
   ]
  },
  {
   "cell_type": "code",
   "execution_count": 15,
   "metadata": {},
   "outputs": [],
   "source": [
    "income_df = pd.read_csv(\"http://www-bcf.usc.edu/~gareth/ISL/Income2.csv\")\n",
    "income_df = income_df.drop(\"Unnamed: 0\", axis=1)\n",
    "_income = features.Object()\n",
    "_income.X = income_df.drop(\"Income\", axis=1)\n",
    "_income.y = income_df[\"Income\"].values"
   ]
  },
  {
   "cell_type": "code",
   "execution_count": 16,
   "metadata": {},
   "outputs": [],
   "source": [
    "RAND_STATE = 17\n",
    "\n",
    "_income.X_train, _income.X_test, _income.y_train, _income.y_test = \\\n",
    "    features.train_test_split(\n",
    "        _income.X, \n",
    "        _income.y, \n",
    "        test_size=0.2, \n",
    "        shuffle=True, \n",
    "        random_state=RAND_STATE)"
   ]
  },
  {
   "cell_type": "code",
   "execution_count": 17,
   "metadata": {},
   "outputs": [
    {
     "name": "stdout",
     "output_type": "stream",
     "text": [
      "Train, sklearn, ours: 0.9196882067371206 0.9196882067371206\n",
      "Test, sklearn, ours: 0.7025467606977926 0.7906036019945054\n"
     ]
    }
   ],
   "source": [
    "compare_trees(\n",
    "    sklearn.tree.DecisionTreeRegressor(max_depth=2, min_samples_leaf=1),\n",
    "    csc665.tree.DecisionTreeRegressor(max_depth=2, min_samples_leaf=1),\n",
    "    _income.X_train, _income.X_test, _income.y_train, _income.y_test)"
   ]
  },
  {
   "cell_type": "code",
   "execution_count": 18,
   "metadata": {},
   "outputs": [
    {
     "name": "stdout",
     "output_type": "stream",
     "text": [
      "Train, sklearn, ours: 1.0 1.0\n",
      "Test, sklearn, ours: 0.878556977679157 0.9647026064064674\n"
     ]
    }
   ],
   "source": [
    "compare_trees(\n",
    "    sklearn.tree.DecisionTreeRegressor(max_depth=100, min_samples_leaf=1),\n",
    "    csc665.tree.DecisionTreeRegressor(max_depth=100, min_samples_leaf=1),\n",
    "    _income.X_train, _income.X_test, _income.y_train, _income.y_test)"
   ]
  },
  {
   "cell_type": "code",
   "execution_count": 19,
   "metadata": {},
   "outputs": [
    {
     "name": "stdout",
     "output_type": "stream",
     "text": [
      "Train, sklearn, ours: 0.9992698428541422 0.9992698428541422\n",
      "Test, sklearn, ours: 0.956126168903839 0.9627112963594541\n"
     ]
    }
   ],
   "source": [
    "compare_trees(\n",
    "    sklearn.tree.DecisionTreeRegressor(max_depth=5, min_samples_leaf=1),\n",
    "    csc665.tree.DecisionTreeRegressor(max_depth=5, min_samples_leaf=1),\n",
    "    _income.X_train, _income.X_test, _income.y_train, _income.y_test)"
   ]
  },
  {
   "cell_type": "code",
   "execution_count": 20,
   "metadata": {},
   "outputs": [
    {
     "name": "stdout",
     "output_type": "stream",
     "text": [
      "Train, sklearn, ours: 0.900021992414658 0.900021992414658\n",
      "Test, sklearn, ours: 0.6972233317017924 0.7852801729985053\n"
     ]
    }
   ],
   "source": [
    "compare_trees(\n",
    "    sklearn.tree.DecisionTreeRegressor(max_depth=20, min_samples_leaf=5),\n",
    "    csc665.tree.DecisionTreeRegressor(max_depth=20, min_samples_leaf=5),\n",
    "    _income.X_train, _income.X_test, _income.y_train, _income.y_test)"
   ]
  },
  {
   "cell_type": "code",
   "execution_count": 21,
   "metadata": {},
   "outputs": [
    {
     "name": "stdout",
     "output_type": "stream",
     "text": [
      "Train, sklearn, ours: 0.8647154870659806 0.8647154870659806\n",
      "Test, sklearn, ours: 0.7054294009082782 0.793486242204991\n"
     ]
    }
   ],
   "source": [
    "compare_trees(\n",
    "    sklearn.tree.DecisionTreeRegressor(max_depth=20, min_samples_leaf=7),\n",
    "    csc665.tree.DecisionTreeRegressor(max_depth=20, min_samples_leaf=7),\n",
    "    _income.X_train, _income.X_test, _income.y_train, _income.y_test)"
   ]
  },
  {
   "cell_type": "code",
   "execution_count": 22,
   "metadata": {},
   "outputs": [],
   "source": [
    "_mel_sampled = features.Object()\n",
    "_mel_sampled.X_train = _mel.X_train[:200]\n",
    "_mel_sampled.y_train = _mel.y_train[:200]\n",
    "_mel_sampled.X_test = _mel.X_test[:50]\n",
    "_mel_sampled.y_test = _mel.y_test[:50]"
   ]
  },
  {
   "cell_type": "code",
   "execution_count": 23,
   "metadata": {},
   "outputs": [],
   "source": [
    "dt = csc665.tree.DecisionTreeRegressor(max_depth=100, min_samples_leaf=1)"
   ]
  },
  {
   "cell_type": "code",
   "execution_count": 24,
   "metadata": {},
   "outputs": [
    {
     "name": "stdout",
     "output_type": "stream",
     "text": [
      " "
     ]
    }
   ],
   "source": [
    "%%prun\n",
    "dt.fit(_mel_sampled.X_train, _mel_sampled.y_train)"
   ]
  },
  {
   "cell_type": "code",
   "execution_count": 25,
   "metadata": {},
   "outputs": [
    {
     "name": "stdout",
     "output_type": "stream",
     "text": [
      "Train, sklearn, ours: 0.8987998210692171 0.8987998210692171\n",
      "Test, sklearn, ours: 0.29174211706822906 0.2965592084589944\n",
      "CPU times: user 997 ms, sys: 4.46 ms, total: 1 s\n",
      "Wall time: 1 s\n"
     ]
    }
   ],
   "source": [
    "%%time \n",
    "compare_trees(\n",
    "    sklearn.tree.DecisionTreeRegressor(max_depth=5, min_samples_leaf=1),\n",
    "    csc665.tree.DecisionTreeRegressor(max_depth=5, min_samples_leaf=1),\n",
    "    _mel_sampled.X_train, _mel_sampled.X_test, _mel_sampled.y_train, _mel_sampled.y_test)"
   ]
  },
  {
   "cell_type": "code",
   "execution_count": 26,
   "metadata": {},
   "outputs": [
    {
     "name": "stdout",
     "output_type": "stream",
     "text": [
      "Train, sklearn, ours: 1.0 1.0\n",
      "Test, sklearn, ours: -0.13531037651964017 -0.027470394746961446\n",
      "CPU times: user 2.44 s, sys: 8.23 ms, total: 2.45 s\n",
      "Wall time: 2.45 s\n"
     ]
    }
   ],
   "source": [
    "%%time \n",
    "compare_trees(\n",
    "    sklearn.tree.DecisionTreeRegressor(max_depth=100, min_samples_leaf=1),\n",
    "    csc665.tree.DecisionTreeRegressor(max_depth=100, min_samples_leaf=1),\n",
    "    _mel_sampled.X_train, _mel_sampled.X_test, _mel_sampled.y_train, _mel_sampled.y_test)"
   ]
  },
  {
   "cell_type": "code",
   "execution_count": 27,
   "metadata": {},
   "outputs": [
    {
     "name": "stdout",
     "output_type": "stream",
     "text": [
      "Train, sklearn, ours: 0.8165200588363422 0.8165200588363422\n",
      "Test, sklearn, ours: 0.3054985301895722 0.3054985301895722\n",
      "CPU times: user 1.33 s, sys: 3.86 ms, total: 1.33 s\n",
      "Wall time: 1.33 s\n"
     ]
    }
   ],
   "source": [
    "%%time \n",
    "compare_trees(\n",
    "    sklearn.tree.DecisionTreeRegressor(max_depth=100, min_samples_leaf=7),\n",
    "    csc665.tree.DecisionTreeRegressor(max_depth=100, min_samples_leaf=7),\n",
    "    _mel_sampled.X_train, _mel_sampled.X_test, _mel_sampled.y_train, _mel_sampled.y_test)"
   ]
  },
  {
   "cell_type": "code",
   "execution_count": null,
   "metadata": {},
   "outputs": [],
   "source": []
  }
 ],
 "metadata": {
  "kernelspec": {
   "display_name": "Python 3",
   "language": "python",
   "name": "python3"
  },
  "language_info": {
   "codemirror_mode": {
    "name": "ipython",
    "version": 3
   },
   "file_extension": ".py",
   "mimetype": "text/x-python",
   "name": "python",
   "nbconvert_exporter": "python",
   "pygments_lexer": "ipython3",
   "version": "3.6.8"
  }
 },
 "nbformat": 4,
 "nbformat_minor": 2
}
