{
 "cells": [
  {
   "cell_type": "code",
   "execution_count": 1,
   "metadata": {},
   "outputs": [],
   "source": [
    "%reload_ext autoreload\n",
    "%autoreload 2\n",
    "%matplotlib inline"
   ]
  },
  {
   "cell_type": "code",
   "execution_count": 2,
   "metadata": {},
   "outputs": [],
   "source": [
    "from csc665 import features, metrics\n",
    "import csc665.ensemble"
   ]
  },
  {
   "cell_type": "code",
   "execution_count": 3,
   "metadata": {},
   "outputs": [],
   "source": [
    "import numpy as np\n",
    "import pandas as pd\n",
    "from sklearn.metrics import mean_squared_error, r2_score\n",
    "import unittest as ut\n",
    "import sklearn.ensemble\n",
    "\n",
    "class Object(object): pass\n",
    "class TC(ut.TestCase): pass\n",
    "tc = TC()"
   ]
  },
  {
   "cell_type": "code",
   "execution_count": 4,
   "metadata": {},
   "outputs": [],
   "source": [
    "def compare_models(sk_model, our_model, X_train, X_test, y_train, y_test):\n",
    "    sk_model.fit(X_train, y_train)\n",
    "    our_model.fit(X_train, y_train)\n",
    "    \n",
    "    expected = metrics.rsq(sk_model.predict(X_train), y_train)\n",
    "    actual = metrics.rsq(our_model.predict(X_train), y_train)\n",
    "    print(\"Train, sklearn, ours:\", expected, actual)\n",
    "    tc.assertLess(abs(expected - actual), 0.19)\n",
    "    \n",
    "    expected = metrics.rsq(sk_model.predict(X_test), y_test)\n",
    "    actual = metrics.rsq(our_model.predict(X_test), y_test)\n",
    "    print(\"Test, sklearn, ours:\", expected, actual)\n",
    "    tc.assertLess(abs(expected - actual), 0.19)"
   ]
  },
  {
   "cell_type": "code",
   "execution_count": 5,
   "metadata": {},
   "outputs": [],
   "source": [
    "income_df = pd.read_csv(\"http://www-bcf.usc.edu/~gareth/ISL/Income2.csv\")\n",
    "income_df = income_df.drop(\"Unnamed: 0\", axis=1)\n",
    "_income = features.Object()\n",
    "_income.X = income_df.drop(\"Income\", axis=1)\n",
    "_income.y = income_df[\"Income\"].values"
   ]
  },
  {
   "cell_type": "code",
   "execution_count": 6,
   "metadata": {},
   "outputs": [],
   "source": [
    "import sklearn.model_selection\n",
    "RAND_STATE = 17\n",
    "\n",
    "_income.X_train, _income.X_test, _income.y_train, _income.y_test = \\\n",
    "    sklearn.model_selection.train_test_split(\n",
    "        _income.X, \n",
    "        _income.y, \n",
    "        test_size=0.2, \n",
    "        random_state=RAND_STATE)"
   ]
  },
  {
   "cell_type": "code",
   "execution_count": 7,
   "metadata": {},
   "outputs": [
    {
     "name": "stdout",
     "output_type": "stream",
     "text": [
      "B:  [41.53199242 98.83401154 78.80578429 90.81403512 78.70280624 31.91380794\n",
      " 31.91380794 90.00632711 41.53199242 17.61359304 41.53199242 74.7046992\n",
      " 74.7046992  27.9825049  79.81102983 68.00992165 21.38856131 66.60179242\n",
      " 27.9825049  74.7046992  87.97046699 74.7046992  57.68169426 90.00632711]\n",
      "Train, sklearn, ours: 0.9364717923402179 0.9568283046245148\n",
      "B:  [79.81102983 66.60179242 31.91380794 74.7046992  68.00992165 17.61359304]\n",
      "Test, sklearn, ours: 0.721713329027837 0.6963370198498757\n"
     ]
    }
   ],
   "source": [
    "compare_models(\n",
    "    sklearn.ensemble.RandomForestRegressor(n_estimators=1, random_state=RAND_STATE),\n",
    "    csc665.ensemble.RandomForestRegressor(n_estimators=1, sample_ratio=1.0, random_state=RAND_STATE),\n",
    "    _income.X_train, _income.X_test, _income.y_train, _income.y_test)"
   ]
  },
  {
   "cell_type": "code",
   "execution_count": 9,
   "metadata": {},
   "outputs": [
    {
     "name": "stdout",
     "output_type": "stream",
     "text": [
      "B:  [25.98814436 91.36716464 80.94533022 91.79254273 78.68745618 31.53645524\n",
      " 29.2462712  87.30387342 43.86900364 22.88142856 42.76905354 87.19805636\n",
      " 75.15669698 26.94561371 82.66849376 70.20956219 24.11741129 65.36548591\n",
      " 27.52927082 72.04699175 89.46091419 73.01850054 62.28255626 87.00218553]\n",
      "Train, sklearn, ours: 0.9855590794076453 0.9870400407371869\n",
      "B:  [86.56548234 80.89652276 38.83859179 87.43576349 70.83566504 32.44329814]\n",
      "Test, sklearn, ours: 0.8274958775158834 0.8257772237043085\n"
     ]
    }
   ],
   "source": [
    "compare_models(\n",
    "    sklearn.ensemble.RandomForestRegressor(n_estimators=10, random_state=RAND_STATE),\n",
    "    csc665.ensemble.RandomForestRegressor(n_estimators=10, sample_ratio=1.0, random_state=RAND_STATE),\n",
    "    _income.X_train, _income.X_test, _income.y_train, _income.y_test)"
   ]
  },
  {
   "cell_type": "code",
   "execution_count": 10,
   "metadata": {},
   "outputs": [
    {
     "name": "stdout",
     "output_type": "stream",
     "text": [
      "B:  [25.4032192  95.41282209 78.72275077 90.4912705  79.28945335 32.40662463\n",
      " 28.82789626 87.86993192 41.7285001  21.91072742 41.67793424 83.5986321\n",
      " 76.64934214 26.14397038 81.99145859 74.37454573 22.74055517 66.8424498\n",
      " 28.22705324 72.43376714 89.18728397 73.68481134 62.91005106 87.26829484]\n",
      "Train, sklearn, ours: 0.9890140619420476 0.9853369363045167\n",
      "B:  [85.71486457 74.57131266 37.8773807  86.58514144 71.01526243 28.8122314 ]\n",
      "Test, sklearn, ours: 0.883233461265201 0.8516038423812654\n"
     ]
    }
   ],
   "source": [
    "compare_models(\n",
    "    sklearn.ensemble.RandomForestRegressor(n_estimators=100, random_state=RAND_STATE),\n",
    "    csc665.ensemble.RandomForestRegressor(n_estimators=100, sample_ratio=1.0, random_state=RAND_STATE),\n",
    "    _income.X_train, _income.X_test, _income.y_train, _income.y_test)"
   ]
  },
  {
   "cell_type": "code",
   "execution_count": 13,
   "metadata": {},
   "outputs": [],
   "source": [
    "csv_df = pd.read_csv(\"/Users/patrick/Documents/csc665/Melbourne_housing_FULL.csv\")"
   ]
  },
  {
   "cell_type": "code",
   "execution_count": 14,
   "metadata": {},
   "outputs": [],
   "source": [
    "from sklearn.model_selection import train_test_split\n",
    "\n",
    "_mel = Object()\n",
    "_mel.X, _mel.y = features.preprocess_ver_1(csv_df, \"Price\")\n",
    "_mel.X_train, _mel.X_test, _mel.y_train, _mel.y_test = \\\n",
    "    train_test_split(_mel.X, _mel.y, test_size=0.2, random_state=RAND_STATE)"
   ]
  },
  {
   "cell_type": "code",
   "execution_count": 15,
   "metadata": {},
   "outputs": [
    {
     "name": "stdout",
     "output_type": "stream",
     "text": [
      "(8887, 20) (8887,)\n"
     ]
    }
   ],
   "source": [
    "print(_mel.X.shape, _mel.y.shape)\n",
    "\n",
    "assert _mel.X.shape[0] == 8887, \"X.shape\"\n",
    "assert _mel.y.shape[0] == 8887, \"y.shape\""
   ]
  },
  {
   "cell_type": "code",
   "execution_count": 16,
   "metadata": {},
   "outputs": [],
   "source": [
    "_mel_sampled = Object()\n",
    "_mel_sampled.X_train = _mel.X[:200]\n",
    "_mel_sampled.y_train = _mel.y[:200]\n",
    "_mel_sampled.X_test = _mel.X[:50]\n",
    "_mel_sampled.y_test = _mel.y[:50]"
   ]
  },
  {
   "cell_type": "code",
   "execution_count": 17,
   "metadata": {},
   "outputs": [
    {
     "name": "stdout",
     "output_type": "stream",
     "text": [
      "B:  [1012500. 1465000. 1600000. 1430000. 1310000. 1097000. 1350000.  750000.\n",
      " 1310000. 1315000. 1176500.  515000. 1330000.  442500. 1100000. 1315000.\n",
      " 1100000. 1135000. 1290000.  442500. 1180000. 1195000. 1012500. 1030000.\n",
      "  840000.  730000.  770000.  603000.  770000. 1285000.  500000.  725000.\n",
      "  450000.  515000.  675000.  895000.  805000.  810000.  810000.  830000.\n",
      "  675000. 1042000.  840000.  810000.  715000.  540000.  825000.  685000.\n",
      "  810000. 1275000. 2850000. 3010000. 1436000. 2300000. 1100000. 2120000.\n",
      " 1800000. 2615000. 1101000. 1322500. 1562500. 2000000. 3010000. 2800000.\n",
      " 1800000. 2000000.  442500. 4735000. 2140000. 2120000. 2300000. 2120000.\n",
      " 2000000. 1717500. 2840000.  525500.  805000.  995000.  840000.  865000.\n",
      "  750000.  525500. 1717500. 1950000. 1525000. 1525000.  815000. 1120000.\n",
      " 1780000.  630000.  660000.  580000. 1335000.  510000.  510000.  857000.\n",
      "  845000.  660000.  510000.  678000.  510000.  810000.  540000.  857000.\n",
      "  730000.  535600. 1085000.  781000.  440000.  725000.  720000.  588000.\n",
      "  781000.  875000.  675000.  708000. 1200000.  620000.  725000.  931000.\n",
      "  815000. 1200000.  515000.  599000.  995000.  995000. 1939000. 1870000.\n",
      "  810000. 2050000.  869000. 1435000.  280000.  592500. 1210000. 2801000.\n",
      " 1900000. 1939000. 4200000.  598000. 2000000.  704000.  620000. 1900000.\n",
      "  280000.  598000. 1285000.  280000. 3625000. 4200000. 1101000. 2801000.\n",
      "  869000.  598000.  995000.  440000. 1465000.  490000. 1430000. 1130000.\n",
      "  710000. 1430000.  750000. 1053000. 1430000. 1430000.  751000.  950000.\n",
      "  500000. 1100000.  770000. 1465000. 1440000. 1000000. 1435000.  440000.\n",
      " 1100000. 1340000.  955000. 1100000.  440000. 1430000. 1430000.  620000.\n",
      "  940000.  890000. 1180000. 1480000. 1600000.  440000.  995000. 1195000.\n",
      "  440000. 1430000. 1130000. 1135000. 1100000.  500000. 1345000. 1440000.]\n",
      "Train, sklearn, ours: 0.920353425859184 0.8552264118948804\n",
      "B:  [1012500. 1465000. 1600000. 1430000. 1310000. 1097000. 1350000.  750000.\n",
      " 1310000. 1315000. 1176500.  515000. 1330000.  442500. 1100000. 1315000.\n",
      " 1100000. 1135000. 1290000.  442500. 1180000. 1195000. 1012500. 1030000.\n",
      "  840000.  730000.  770000.  603000.  770000. 1285000.  500000.  725000.\n",
      "  450000.  515000.  675000.  895000.  805000.  810000.  810000.  830000.\n",
      "  675000. 1042000.  840000.  810000.  715000.  540000.  825000.  685000.\n",
      "  810000. 1275000.]\n",
      "Test, sklearn, ours: 0.8391223876039476 0.8058474438677964\n",
      "CPU times: user 10.2 ms, sys: 1.16 ms, total: 11.3 ms\n",
      "Wall time: 10.5 ms\n"
     ]
    }
   ],
   "source": [
    "%%time\n",
    "\n",
    "compare_models(\n",
    "    sklearn.ensemble.RandomForestRegressor(n_estimators=1, random_state=RAND_STATE),\n",
    "    csc665.ensemble.RandomForestRegressor(n_estimators=1, sample_ratio=1.0, random_state=RAND_STATE),\n",
    "    _mel_sampled.X_train, _mel_sampled.X_test, _mel_sampled.y_train, _mel_sampled.y_test)"
   ]
  },
  {
   "cell_type": "code",
   "execution_count": 18,
   "metadata": {},
   "outputs": [
    {
     "name": "stdout",
     "output_type": "stream",
     "text": [
      "B:  [1036350. 1413500. 1600000. 1761200. 1503550. 1139100. 1764850.  700000.\n",
      " 1310000. 1194450. 1225800.  852000. 1320500.  494350. 1115000. 1251750.\n",
      " 1418250. 1072500. 1229000.  467250. 1210000. 1169000. 1096050. 1112300.\n",
      "  802600.  720800.  771500.  681920.  717400.  670560.  523560.  836800.\n",
      "  464660.  513000.  548860.  861300.  799600.  747400.  722000.  836500.\n",
      "  722500.  954900.  785600. 1205000.  755300.  594500.  819500.  692650.\n",
      "  971000. 1341000. 2866000. 2106000. 1446150. 2327000. 1550450. 1926500.\n",
      " 1924000. 2442000. 1271850. 1334000. 1592000. 2081000. 2581000. 2800000.\n",
      " 2042000. 1980000.  576850. 4184500. 2185500. 1380750. 1835250. 1382250.\n",
      " 1988000. 1764000. 2472650.  550750.  780500. 1529000. 1991750.  967800.\n",
      "  495000.  496950. 2113500. 1862000.  735000. 1527500.  807600. 1161000.\n",
      " 1584500.  654400.  702400.  601560. 1286000.  532800.  399700.  439800.\n",
      "  987000.  708000.  510460.  742060.  618500.  818300.  598400.  772500.\n",
      "  674700.  536040. 1003600.  775700.  472200.  689200.  729060.  645350.\n",
      "  707050.  818900.  675100.  684900.  826100.  644400.  723800.  877500.\n",
      "  791300. 1044800.  376700.  600100.  924200. 1126100. 2063300. 1924000.\n",
      " 1532500. 2038900. 1053150. 1620400.  375200.  593050. 1190900. 2710900.\n",
      " 1887000. 2324300. 4736250.  481450. 1422400.  693500.  725200. 1865900.\n",
      "  660000.  589100. 1304000.  503250. 3460200. 3357750. 1071400. 2554100.\n",
      "  923950.  515450.  948500.  449900. 1454100.  459200. 1770000. 1022800.\n",
      "  722300. 2413000.  877000. 1030400. 1389200. 1004000.  746900.  960300.\n",
      "  592500. 1130200.  921800. 1292700. 1401500.  985600. 1335500.  441400.\n",
      " 1247250. 1224300.  953500. 1192000.  439600. 1642000. 1446500.  639000.\n",
      "  964850.  907000. 1408000. 1381300.  840560.  433100. 1054500. 1075900.\n",
      "  419400. 1442000. 1228300. 1098000. 1080200.  411200. 1224500. 1408950.]\n",
      "Train, sklearn, ours: 0.9606790945695954 0.9562080920036785\n",
      "B:  [1036350. 1413500. 1600000. 1761200. 1503550. 1139100. 1764850.  700000.\n",
      " 1310000. 1194450. 1225800.  852000. 1320500.  494350. 1115000. 1251750.\n",
      " 1418250. 1072500. 1229000.  467250. 1210000. 1169000. 1096050. 1112300.\n",
      "  802600.  720800.  771500.  681920.  717400.  670560.  523560.  836800.\n",
      "  464660.  513000.  548860.  861300.  799600.  747400.  722000.  836500.\n",
      "  722500.  954900.  785600. 1205000.  755300.  594500.  819500.  692650.\n",
      "  971000. 1341000.]\n",
      "Test, sklearn, ours: 0.9266398707671138 0.921070263542212\n",
      "CPU times: user 72.6 ms, sys: 3.39 ms, total: 75.9 ms\n",
      "Wall time: 77.5 ms\n"
     ]
    }
   ],
   "source": [
    "%%time\n",
    "\n",
    "compare_models(\n",
    "    sklearn.ensemble.RandomForestRegressor(n_estimators=10, random_state=RAND_STATE),\n",
    "    csc665.ensemble.RandomForestRegressor(n_estimators=10, sample_ratio=1.0, random_state=RAND_STATE),\n",
    "    _mel_sampled.X_train, _mel_sampled.X_test, _mel_sampled.y_train, _mel_sampled.y_test)\n"
   ]
  },
  {
   "cell_type": "code",
   "execution_count": 19,
   "metadata": {},
   "outputs": [
    {
     "name": "stdout",
     "output_type": "stream",
     "text": [
      "B:  [1047190. 1493640. 1484400. 1706850. 1491510. 1137560. 1438840.  747710.\n",
      " 1305810. 1247300. 1217920.  845002. 1408840.  532340. 1088050. 1253700.\n",
      " 1404150. 1138030. 1236940.  516630. 1207100. 1204570. 1079770. 1092560.\n",
      "  912980.  761360.  805200.  679736.  717920.  647192.  508994.  933960.\n",
      "  477784.  511502.  534912.  923960.  787580.  726960.  714400.  818140.\n",
      "  697020.  961540. 1326410.  913310.  740880.  593860.  811380.  690590.\n",
      "  920360. 1317540. 2839300. 1970600. 1444310. 2275500. 1660790. 1906500.\n",
      " 1855800. 2412000. 1326480. 1362990. 1512770. 2004560. 2439400. 2815700.\n",
      " 1951050. 1929480.  485370. 4101340. 2080680. 1116420. 1799550. 1107470.\n",
      " 2056800. 1848940. 2567480.  510150.  971250. 1592700. 1900290.  937610.\n",
      "  512670.  503410. 2022580. 1912170.  871540. 1365530.  720912. 1146360.\n",
      " 1596230.  649660.  696052.  593312. 1169220.  510052.  446860.  424570.\n",
      "  919860.  723680.  484944.  712262.  599632.  813340.  602320.  821352.\n",
      "  694800.  568780. 1122490.  760980.  464000.  755550.  699564.  618480.\n",
      "  729450.  877920.  662432.  720720.  799640.  651650.  759960.  887180.\n",
      "  815300. 1057920.  377492.  614910.  919850. 1128690. 1979660. 1935420.\n",
      " 1716120. 2020780.  778720. 1586980.  365570.  581970. 1243460. 2939790.\n",
      " 1801020. 2268640. 4545250.  473190. 1424280.  660700.  703560. 1824700.\n",
      "  637650.  588710. 1343150.  536590. 3306570. 3775870. 1102140. 2831090.\n",
      "  981290.  526130.  953910.  471450. 1367080.  465420. 1741400. 1014000.\n",
      "  751300. 2405120.  828100. 1031840. 1428380. 1055040.  800120.  953340.\n",
      "  655372. 1217420.  896480. 1099860. 1347290. 1013460. 1282400.  440630.\n",
      " 1354480. 1353820.  992220. 1217240.  432700. 1585060. 1616690.  628952.\n",
      "  952070.  961540. 1299020. 1406660.  839652.  441390. 1074720. 1100270.\n",
      "  434820. 1398950. 1173520. 1092060. 1091520.  393100. 1298550. 1381530.]\n",
      "Train, sklearn, ours: 0.9679346890752202 0.965129692473973\n",
      "B:  [1047190. 1493640. 1484400. 1706850. 1491510. 1137560. 1438840.  747710.\n",
      " 1305810. 1247300. 1217920.  845002. 1408840.  532340. 1088050. 1253700.\n",
      " 1404150. 1138030. 1236940.  516630. 1207100. 1204570. 1079770. 1092560.\n",
      "  912980.  761360.  805200.  679736.  717920.  647192.  508994.  933960.\n",
      "  477784.  511502.  534912.  923960.  787580.  726960.  714400.  818140.\n",
      "  697020.  961540. 1326410.  913310.  740880.  593860.  811380.  690590.\n",
      "  920360. 1317540.]\n",
      "Test, sklearn, ours: 0.9244637519594157 0.9124876177034095\n",
      "CPU times: user 319 ms, sys: 8.21 ms, total: 327 ms\n",
      "Wall time: 332 ms\n"
     ]
    }
   ],
   "source": [
    "%%time\n",
    "\n",
    "compare_models(\n",
    "    sklearn.ensemble.RandomForestRegressor(n_estimators=50, random_state=RAND_STATE),\n",
    "    csc665.ensemble.RandomForestRegressor(n_estimators=50, sample_ratio=1.0, random_state=RAND_STATE),\n",
    "    _mel_sampled.X_train, _mel_sampled.X_test, _mel_sampled.y_train, _mel_sampled.y_test)"
   ]
  },
  {
   "cell_type": "code",
   "execution_count": 20,
   "metadata": {},
   "outputs": [
    {
     "name": "stdout",
     "output_type": "stream",
     "text": [
      "B:  [ 348591.    771985.   1326100.   ...  558283.25 1997411.52  422238.  ]\n",
      "Train, sklearn, ours: 0.9747897074093999 0.8171003661003435\n",
      "B:  [1151020.   1012275.    929870.   ...  661410.   1433418.88  594955.  ]\n",
      "Test, sklearn, ours: 0.8362731769319623 0.7943800569547488\n",
      "CPU times: user 7.26 s, sys: 206 ms, total: 7.46 s\n",
      "Wall time: 7.8 s\n"
     ]
    }
   ],
   "source": [
    "%%time\n",
    "\n",
    "compare_models(\n",
    "    sklearn.ensemble.RandomForestRegressor(n_estimators=100, random_state=RAND_STATE),\n",
    "    csc665.ensemble.RandomForestRegressor(n_estimators=100, sample_ratio=0.1, random_state=RAND_STATE),\n",
    "    _mel.X_train, _mel.X_test, _mel.y_train, _mel.y_test)"
   ]
  },
  {
   "cell_type": "code",
   "execution_count": null,
   "metadata": {},
   "outputs": [],
   "source": []
  }
 ],
 "metadata": {
  "kernelspec": {
   "display_name": "Python 3",
   "language": "python",
   "name": "python3"
  },
  "language_info": {
   "codemirror_mode": {
    "name": "ipython",
    "version": 3
   },
   "file_extension": ".py",
   "mimetype": "text/x-python",
   "name": "python",
   "nbconvert_exporter": "python",
   "pygments_lexer": "ipython3",
   "version": "3.7.1"
  }
 },
 "nbformat": 4,
 "nbformat_minor": 2
}
