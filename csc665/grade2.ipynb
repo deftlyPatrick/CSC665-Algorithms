{
 "cells": [
  {
   "cell_type": "code",
   "execution_count": 1,
   "metadata": {},
   "outputs": [],
   "source": [
    "import features, metrics\n",
    "import tree"
   ]
  },
  {
   "cell_type": "code",
   "execution_count": 2,
   "metadata": {},
   "outputs": [],
   "source": [
    "import numpy as np\n",
    "import pandas as pd\n",
    "from sklearn.metrics import mean_squared_error, r2_score\n",
    "import unittest as ut\n",
    "import sklearn.tree\n",
    "\n",
    "class Object(object): pass\n",
    "class TC(ut.TestCase): pass\n",
    "tc = TC()"
   ]
  },
  {
   "cell_type": "code",
   "execution_count": 3,
   "metadata": {},
   "outputs": [],
   "source": [
    "def compare_trees(sktree, our_tree, X_train, X_test, y_train, y_test):\n",
    "    sktree.fit(X_train, y_train)\n",
    "    our_tree.fit(X_train, y_train)\n",
    "#     print(our_tree)\n",
    "    \n",
    "    expected = metrics.rsq(sktree.predict(X_train), y_train)\n",
    "    actual = metrics.rsq(our_tree.predict(X_train), y_train)\n",
    "    print(\"Train, sklearn, ours:\", expected, actual)\n",
    "    tc.assertLess(abs(expected - actual), 0.19)\n",
    "#     tc.assertAlmostEqual(expected, actual, places=1)\n",
    "    \n",
    "    expected = metrics.rsq(sktree.predict(X_test), y_test)\n",
    "    actual = metrics.rsq(our_tree.predict(X_test), y_test)\n",
    "    print(\"Test, sklearn, ours:\", expected, actual)\n",
    "\n",
    "    tc.assertLess(abs(expected - actual), 0.19)"
   ]
  },
  {
   "cell_type": "code",
   "execution_count": 4,
   "metadata": {},
   "outputs": [],
   "source": [
    "class Object(object): pass\n",
    "\n",
    "income_df = pd.read_csv(\"http://www-bcf.usc.edu/~gareth/ISL/Income2.csv\")\n",
    "income_df = income_df.drop(\"Unnamed: 0\", axis=1)\n",
    "_income = Object()\n",
    "_income.X = income_df.drop(\"Income\", axis=1)\n",
    "_income.y = income_df[\"Income\"].values"
   ]
  },
  {
   "cell_type": "code",
   "execution_count": 5,
   "metadata": {},
   "outputs": [],
   "source": [
    "RAND_STATE = 17\n",
    "from sklearn.model_selection import train_test_split\n",
    "\n",
    "_income.X_train, _income.X_test, _income.y_train, _income.y_test = \\\n",
    "    train_test_split(\n",
    "        _income.X, \n",
    "        _income.y, \n",
    "        test_size=0.2, \n",
    "        random_state=RAND_STATE)"
   ]
  },
  {
   "cell_type": "code",
   "execution_count": 6,
   "metadata": {},
   "outputs": [
    {
     "name": "stderr",
     "output_type": "stream",
     "text": [
      "/Users/patrick/MEGA/CSC665-Project1/csc665/tree.py:134: RuntimeWarning: Mean of empty slice.\n",
      "  mse_right = met.mse(y[right].mean(), y[right])\n",
      "/Users/patrick/anaconda2/envs/py36/lib/python3.7/site-packages/numpy/core/_methods.py:85: RuntimeWarning: invalid value encountered in double_scalars\n",
      "  ret = ret.dtype.type(ret / rcount)\n",
      "/Users/patrick/MEGA/CSC665-Project1/csc665/metrics.py:12: RuntimeWarning: Mean of empty slice.\n",
      "  return np.square(np.subtract(y_predicted, y_true)).mean()\n"
     ]
    },
    {
     "ename": "ValueError",
     "evalue": "operands could not be broadcast together with shapes (21,) (24,) ",
     "output_type": "error",
     "traceback": [
      "\u001b[0;31m---------------------------------------------------------------------------\u001b[0m",
      "\u001b[0;31mValueError\u001b[0m                                Traceback (most recent call last)",
      "\u001b[0;32m<ipython-input-6-c9ce28e0bc29>\u001b[0m in \u001b[0;36m<module>\u001b[0;34m\u001b[0m\n\u001b[1;32m      2\u001b[0m     \u001b[0msklearn\u001b[0m\u001b[0;34m.\u001b[0m\u001b[0mtree\u001b[0m\u001b[0;34m.\u001b[0m\u001b[0mDecisionTreeRegressor\u001b[0m\u001b[0;34m(\u001b[0m\u001b[0mmax_depth\u001b[0m\u001b[0;34m=\u001b[0m\u001b[0;36m2\u001b[0m\u001b[0;34m,\u001b[0m \u001b[0mmin_samples_leaf\u001b[0m\u001b[0;34m=\u001b[0m\u001b[0;36m1\u001b[0m\u001b[0;34m)\u001b[0m\u001b[0;34m,\u001b[0m\u001b[0;34m\u001b[0m\u001b[0;34m\u001b[0m\u001b[0m\n\u001b[1;32m      3\u001b[0m     \u001b[0mtree\u001b[0m\u001b[0;34m.\u001b[0m\u001b[0mDecisionTreeRegressor\u001b[0m\u001b[0;34m(\u001b[0m\u001b[0mmax_depth\u001b[0m\u001b[0;34m=\u001b[0m\u001b[0;36m2\u001b[0m\u001b[0;34m,\u001b[0m \u001b[0mmin_samples_leaf\u001b[0m\u001b[0;34m=\u001b[0m\u001b[0;36m1\u001b[0m\u001b[0;34m)\u001b[0m\u001b[0;34m,\u001b[0m\u001b[0;34m\u001b[0m\u001b[0;34m\u001b[0m\u001b[0m\n\u001b[0;32m----> 4\u001b[0;31m     _income.X_train, _income.X_test, _income.y_train, _income.y_test)\n\u001b[0m",
      "\u001b[0;32m<ipython-input-3-2e83f1a8a6c7>\u001b[0m in \u001b[0;36mcompare_trees\u001b[0;34m(sktree, our_tree, X_train, X_test, y_train, y_test)\u001b[0m\n\u001b[1;32m      5\u001b[0m \u001b[0;34m\u001b[0m\u001b[0m\n\u001b[1;32m      6\u001b[0m     \u001b[0mexpected\u001b[0m \u001b[0;34m=\u001b[0m \u001b[0mmetrics\u001b[0m\u001b[0;34m.\u001b[0m\u001b[0mrsq\u001b[0m\u001b[0;34m(\u001b[0m\u001b[0msktree\u001b[0m\u001b[0;34m.\u001b[0m\u001b[0mpredict\u001b[0m\u001b[0;34m(\u001b[0m\u001b[0mX_train\u001b[0m\u001b[0;34m)\u001b[0m\u001b[0;34m,\u001b[0m \u001b[0my_train\u001b[0m\u001b[0;34m)\u001b[0m\u001b[0;34m\u001b[0m\u001b[0;34m\u001b[0m\u001b[0m\n\u001b[0;32m----> 7\u001b[0;31m     \u001b[0mactual\u001b[0m \u001b[0;34m=\u001b[0m \u001b[0mmetrics\u001b[0m\u001b[0;34m.\u001b[0m\u001b[0mrsq\u001b[0m\u001b[0;34m(\u001b[0m\u001b[0mour_tree\u001b[0m\u001b[0;34m.\u001b[0m\u001b[0mpredict\u001b[0m\u001b[0;34m(\u001b[0m\u001b[0mX_train\u001b[0m\u001b[0;34m)\u001b[0m\u001b[0;34m,\u001b[0m \u001b[0my_train\u001b[0m\u001b[0;34m)\u001b[0m\u001b[0;34m\u001b[0m\u001b[0;34m\u001b[0m\u001b[0m\n\u001b[0m\u001b[1;32m      8\u001b[0m     \u001b[0mprint\u001b[0m\u001b[0;34m(\u001b[0m\u001b[0;34m\"Train, sklearn, ours:\"\u001b[0m\u001b[0;34m,\u001b[0m \u001b[0mexpected\u001b[0m\u001b[0;34m,\u001b[0m \u001b[0mactual\u001b[0m\u001b[0;34m)\u001b[0m\u001b[0;34m\u001b[0m\u001b[0;34m\u001b[0m\u001b[0m\n\u001b[1;32m      9\u001b[0m     \u001b[0mtc\u001b[0m\u001b[0;34m.\u001b[0m\u001b[0massertLess\u001b[0m\u001b[0;34m(\u001b[0m\u001b[0mabs\u001b[0m\u001b[0;34m(\u001b[0m\u001b[0mexpected\u001b[0m \u001b[0;34m-\u001b[0m \u001b[0mactual\u001b[0m\u001b[0;34m)\u001b[0m\u001b[0;34m,\u001b[0m \u001b[0;36m0.19\u001b[0m\u001b[0;34m)\u001b[0m\u001b[0;34m\u001b[0m\u001b[0;34m\u001b[0m\u001b[0m\n",
      "\u001b[0;32m~/MEGA/CSC665-Project1/csc665/metrics.py\u001b[0m in \u001b[0;36mrsq\u001b[0;34m(y_pred, y_actual)\u001b[0m\n\u001b[1;32m     31\u001b[0m         \u001b[0my_pred\u001b[0m \u001b[0;34m=\u001b[0m \u001b[0mnp\u001b[0m\u001b[0;34m.\u001b[0m\u001b[0masarray\u001b[0m\u001b[0;34m(\u001b[0m\u001b[0my_pred\u001b[0m\u001b[0;34m)\u001b[0m\u001b[0;34m\u001b[0m\u001b[0;34m\u001b[0m\u001b[0m\n\u001b[1;32m     32\u001b[0m         \u001b[0my_actual\u001b[0m \u001b[0;34m=\u001b[0m \u001b[0mnp\u001b[0m\u001b[0;34m.\u001b[0m\u001b[0masarray\u001b[0m\u001b[0;34m(\u001b[0m\u001b[0my_actual\u001b[0m\u001b[0;34m)\u001b[0m\u001b[0;34m\u001b[0m\u001b[0;34m\u001b[0m\u001b[0m\n\u001b[0;32m---> 33\u001b[0;31m         \u001b[0mu\u001b[0m \u001b[0;34m=\u001b[0m \u001b[0;34m(\u001b[0m\u001b[0;34m(\u001b[0m\u001b[0my_pred\u001b[0m \u001b[0;34m-\u001b[0m \u001b[0my_actual\u001b[0m\u001b[0;34m)\u001b[0m \u001b[0;34m**\u001b[0m \u001b[0;36m2\u001b[0m\u001b[0;34m)\u001b[0m\u001b[0;34m.\u001b[0m\u001b[0mmean\u001b[0m\u001b[0;34m(\u001b[0m\u001b[0;34m)\u001b[0m\u001b[0;34m\u001b[0m\u001b[0;34m\u001b[0m\u001b[0m\n\u001b[0m\u001b[1;32m     34\u001b[0m         \u001b[0mv\u001b[0m \u001b[0;34m=\u001b[0m \u001b[0;34m(\u001b[0m\u001b[0;34m(\u001b[0m\u001b[0my_actual\u001b[0m\u001b[0;34m.\u001b[0m\u001b[0mmean\u001b[0m\u001b[0;34m(\u001b[0m\u001b[0;34m)\u001b[0m \u001b[0;34m-\u001b[0m \u001b[0my_actual\u001b[0m\u001b[0;34m)\u001b[0m \u001b[0;34m**\u001b[0m \u001b[0;36m2\u001b[0m\u001b[0;34m)\u001b[0m\u001b[0;34m.\u001b[0m\u001b[0mmean\u001b[0m\u001b[0;34m(\u001b[0m\u001b[0;34m)\u001b[0m\u001b[0;34m\u001b[0m\u001b[0;34m\u001b[0m\u001b[0m\n\u001b[1;32m     35\u001b[0m         \u001b[0;32mreturn\u001b[0m \u001b[0;36m1\u001b[0m \u001b[0;34m-\u001b[0m \u001b[0mu\u001b[0m \u001b[0;34m/\u001b[0m \u001b[0;34m(\u001b[0m\u001b[0mv\u001b[0m \u001b[0;34m+\u001b[0m \u001b[0;36m1e-9\u001b[0m\u001b[0;34m)\u001b[0m\u001b[0;34m\u001b[0m\u001b[0;34m\u001b[0m\u001b[0m\n",
      "\u001b[0;31mValueError\u001b[0m: operands could not be broadcast together with shapes (21,) (24,) "
     ]
    }
   ],
   "source": [
    "compare_trees(\n",
    "    sklearn.tree.DecisionTreeRegressor(max_depth=2, min_samples_leaf=1),\n",
    "    tree.DecisionTreeRegressor(max_depth=2, min_samples_leaf=1),\n",
    "    _income.X_train, _income.X_test, _income.y_train, _income.y_test)"
   ]
  },
  {
   "cell_type": "code",
   "execution_count": null,
   "metadata": {},
   "outputs": [],
   "source": [
    "compare_trees(\n",
    "    sklearn.tree.DecisionTreeRegressor(max_depth=100, min_samples_leaf=1),\n",
    "    tree.DecisionTreeRegressor(max_depth=100, min_samples_leaf=1),\n",
    "    _income.X_train, _income.X_test, _income.y_train, _income.y_test)"
   ]
  },
  {
   "cell_type": "code",
   "execution_count": null,
   "metadata": {},
   "outputs": [],
   "source": [
    "compare_trees(\n",
    "    sklearn.tree.DecisionTreeRegressor(max_depth=5, min_samples_leaf=1),\n",
    "    tree.DecisionTreeRegressor(max_depth=5, min_samples_leaf=1),\n",
    "    _income.X_train, _income.X_test, _income.y_train, _income.y_test)"
   ]
  },
  {
   "cell_type": "code",
   "execution_count": null,
   "metadata": {},
   "outputs": [],
   "source": [
    "compare_trees(\n",
    "    sklearn.tree.DecisionTreeRegressor(max_depth=20, min_samples_leaf=5),\n",
    "    tree.DecisionTreeRegressor(max_depth=20, min_samples_leaf=5),\n",
    "    _income.X_train, _income.X_test, _income.y_train, _income.y_test)"
   ]
  },
  {
   "cell_type": "code",
   "execution_count": null,
   "metadata": {},
   "outputs": [],
   "source": [
    "compare_trees(\n",
    "    sklearn.tree.DecisionTreeRegressor(max_depth=20, min_samples_leaf=7),\n",
    "    csc665.tree.DecisionTreeRegressor(max_depth=20, min_samples_leaf=7),\n",
    "    _income.X_train, _income.X_test, _income.y_train, _income.y_test)"
   ]
  },
  {
   "cell_type": "code",
   "execution_count": null,
   "metadata": {},
   "outputs": [],
   "source": []
  }
 ],
 "metadata": {
  "kernelspec": {
   "display_name": "Python 3",
   "language": "python",
   "name": "python3"
  },
  "language_info": {
   "codemirror_mode": {
    "name": "ipython",
    "version": 3
   },
   "file_extension": ".py",
   "mimetype": "text/x-python",
   "name": "python",
   "nbconvert_exporter": "python",
   "pygments_lexer": "ipython3",
   "version": "3.7.2"
  }
 },
 "nbformat": 4,
 "nbformat_minor": 2
}
