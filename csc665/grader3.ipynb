{
 "cells": [
  {
   "cell_type": "code",
   "execution_count": 1,
   "metadata": {},
   "outputs": [
    {
     "name": "stdout",
     "output_type": "stream",
     "text": [
      "ytest:  (1778,)\n",
      "Predict:  [ 773200. 1490200. 1122000. ...  345500. 1030400.  778100.]\n",
      "Score:  -0.00011428023882298355\n"
     ]
    }
   ],
   "source": [
    "import features, metrics\n",
    "import ensemble"
   ]
  },
  {
   "cell_type": "code",
   "execution_count": 2,
   "metadata": {},
   "outputs": [],
   "source": [
    "import numpy as np\n",
    "import pandas as pd\n",
    "from sklearn.metrics import mean_squared_error, r2_score\n",
    "import unittest as ut \n",
    "import sklearn.ensemble\n",
    "import sklearn.metrics\n",
    "\n",
    "class Object(object): pass\n",
    "class TC(ut.TestCase): pass\n",
    "tc = TC()"
   ]
  },
  {
   "cell_type": "code",
   "execution_count": 3,
   "metadata": {},
   "outputs": [],
   "source": [
    "def compare_models(sk_model, our_model, X_train, X_test, y_train, y_test):\n",
    "    sk_model.fit(X_train, y_train)\n",
    "    our_model.fit(X_train, y_train)\n",
    "    \n",
    "    expected = metrics.rsq(sk_model.predict(X_train), y_train)\n",
    "    actual = metrics.rsq(our_model.predict(X_train), y_train)\n",
    "    print(\"Train, sklearn, ours:\", expected, actual)\n",
    "    tc.assertLess(abs(expected - actual), 0.19)\n",
    "    \n",
    "    expected = metrics.rsq(sk_model.predict(X_test), y_test)\n",
    "    actual = metrics.rsq(our_model.predict(X_test), y_test)\n",
    "    print(\"Test, sklearn, ours:\", expected, actual)\n",
    "    tc.assertLess(abs(expected - actual), 0.19)"
   ]
  },
  {
   "cell_type": "code",
   "execution_count": 4,
   "metadata": {},
   "outputs": [],
   "source": [
    "income_df = pd.read_csv(\"http://www-bcf.usc.edu/~gareth/ISL/Income2.csv\")\n",
    "income_df = income_df.drop(\"Unnamed: 0\", axis=1)\n",
    "_income = features.Object()\n",
    "_income.X = income_df.drop(\"Income\", axis=1)\n",
    "_income.y = income_df[\"Income\"].values"
   ]
  },
  {
   "cell_type": "code",
   "execution_count": 5,
   "metadata": {},
   "outputs": [],
   "source": [
    "import sklearn.model_selection\n",
    "RAND_STATE = 17\n",
    "\n",
    "_income.X_train, _income.X_test, _income.y_train, _income.y_test = \\\n",
    "    sklearn.model_selection.train_test_split(\n",
    "        _income.X, \n",
    "        _income.y, \n",
    "        test_size=0.2, \n",
    "        random_state=RAND_STATE)"
   ]
  },
  {
   "cell_type": "code",
   "execution_count": 6,
   "metadata": {},
   "outputs": [
    {
     "name": "stdout",
     "output_type": "stream",
     "text": [
      "Train, sklearn, ours: 0.9364717923402179 0.9568283046245148\n",
      "Test, sklearn, ours: 0.721713329027837 0.6963370198498757\n"
     ]
    }
   ],
   "source": [
    "compare_models(\n",
    "    sklearn.ensemble.RandomForestRegressor(n_estimators=1, random_state=RAND_STATE),\n",
    "    ensemble.RandomForestRegressor(n_estimators=1, sample_ratio=1.0, random_state=RAND_STATE),\n",
    "    _income.X_train, _income.X_test, _income.y_train, _income.y_test)"
   ]
  },
  {
   "cell_type": "code",
   "execution_count": 7,
   "metadata": {},
   "outputs": [
    {
     "name": "stdout",
     "output_type": "stream",
     "text": [
      "Train, sklearn, ours: 0.9855590794076453 0.9870400407371869\n",
      "Test, sklearn, ours: 0.8274958775158834 0.8257772237043085\n"
     ]
    }
   ],
   "source": [
    "compare_models(\n",
    "    sklearn.ensemble.RandomForestRegressor(n_estimators=10, random_state=RAND_STATE),\n",
    "    ensemble.RandomForestRegressor(n_estimators=10, sample_ratio=1.0, random_state=RAND_STATE),\n",
    "    _income.X_train, _income.X_test, _income.y_train, _income.y_test)"
   ]
  },
  {
   "cell_type": "code",
   "execution_count": 8,
   "metadata": {},
   "outputs": [
    {
     "name": "stdout",
     "output_type": "stream",
     "text": [
      "Train, sklearn, ours: 0.9890140619420476 0.9853369363045167\n",
      "Test, sklearn, ours: 0.883233461265201 0.8516038423812654\n"
     ]
    }
   ],
   "source": [
    "compare_models(\n",
    "    sklearn.ensemble.RandomForestRegressor(n_estimators=100, random_state=RAND_STATE),\n",
    "    ensemble.RandomForestRegressor(n_estimators=100, sample_ratio=1.0, random_state=RAND_STATE),\n",
    "    _income.X_train, _income.X_test, _income.y_train, _income.y_test)"
   ]
  },
  {
   "cell_type": "code",
   "execution_count": 9,
   "metadata": {},
   "outputs": [],
   "source": [
    "csv_df = pd.read_csv(\"Melbourne_housing_FULL.csv\")"
   ]
  },
  {
   "cell_type": "code",
   "execution_count": 10,
   "metadata": {},
   "outputs": [],
   "source": [
    "from sklearn.model_selection import train_test_split\n",
    "\n",
    "_mel = Object()\n",
    "_mel.X, _mel.y = features.preprocess_ver_1(csv_df, \"Price\")\n",
    "_mel.X_train, _mel.X_test, _mel.y_train, _mel.y_test = \\\n",
    "    train_test_split(_mel.X, _mel.y, test_size=0.2, random_state=RAND_STATE)"
   ]
  },
  {
   "cell_type": "code",
   "execution_count": 11,
   "metadata": {},
   "outputs": [
    {
     "name": "stdout",
     "output_type": "stream",
     "text": [
      "(8887, 20) (8887,)\n"
     ]
    }
   ],
   "source": [
    "print(_mel.X.shape, _mel.y.shape)\n",
    "\n",
    "assert _mel.X.shape[0] == 8887, \"X.shape\"\n",
    "assert _mel.y.shape[0] == 8887, \"y.shape\""
   ]
  },
  {
   "cell_type": "code",
   "execution_count": 12,
   "metadata": {},
   "outputs": [],
   "source": [
    "_mel_sampled = Object()\n",
    "_mel_sampled.X_train = _mel.X[:200]\n",
    "_mel_sampled.y_train = _mel.y[:200]\n",
    "_mel_sampled.X_test = _mel.X[:50]\n",
    "_mel_sampled.y_test = _mel.y[:50]"
   ]
  },
  {
   "cell_type": "code",
   "execution_count": 13,
   "metadata": {},
   "outputs": [
    {
     "name": "stdout",
     "output_type": "stream",
     "text": [
      "Train, sklearn, ours: 0.920353425859184 0.8552264118948804\n",
      "Test, sklearn, ours: 0.8391223876039476 0.8058474438677964\n",
      "CPU times: user 11.4 ms, sys: 1.75 ms, total: 13.1 ms\n",
      "Wall time: 11.4 ms\n"
     ]
    }
   ],
   "source": [
    "%%time\n",
    "\n",
    "compare_models(\n",
    "    sklearn.ensemble.RandomForestRegressor(n_estimators=1, random_state=RAND_STATE),\n",
    "    ensemble.RandomForestRegressor(n_estimators=1, sample_ratio=1.0, random_state=RAND_STATE),\n",
    "    _mel_sampled.X_train, _mel_sampled.X_test, _mel_sampled.y_train, _mel_sampled.y_test)"
   ]
  },
  {
   "cell_type": "code",
   "execution_count": 14,
   "metadata": {},
   "outputs": [
    {
     "name": "stdout",
     "output_type": "stream",
     "text": [
      "Train, sklearn, ours: 0.9606790945695954 0.9562080920036785\n",
      "Test, sklearn, ours: 0.9266398707671138 0.921070263542212\n",
      "CPU times: user 54 ms, sys: 2.08 ms, total: 56.1 ms\n",
      "Wall time: 55.9 ms\n"
     ]
    }
   ],
   "source": [
    "%%time\n",
    "\n",
    "compare_models(\n",
    "    sklearn.ensemble.RandomForestRegressor(n_estimators=10, random_state=RAND_STATE),\n",
    "    ensemble.RandomForestRegressor(n_estimators=10, sample_ratio=1.0, random_state=RAND_STATE),\n",
    "    _mel_sampled.X_train, _mel_sampled.X_test, _mel_sampled.y_train, _mel_sampled.y_test)"
   ]
  },
  {
   "cell_type": "code",
   "execution_count": 15,
   "metadata": {},
   "outputs": [
    {
     "name": "stdout",
     "output_type": "stream",
     "text": [
      "Train, sklearn, ours: 0.9679346890752202 0.965129692473973\n",
      "Test, sklearn, ours: 0.9244637519594157 0.9124876177034095\n",
      "CPU times: user 218 ms, sys: 3.59 ms, total: 221 ms\n",
      "Wall time: 225 ms\n"
     ]
    }
   ],
   "source": [
    "%%time\n",
    "\n",
    "compare_models(\n",
    "    sklearn.ensemble.RandomForestRegressor(n_estimators=50, random_state=RAND_STATE),\n",
    "    ensemble.RandomForestRegressor(n_estimators=50, sample_ratio=1.0, random_state=RAND_STATE),\n",
    "    _mel_sampled.X_train, _mel_sampled.X_test, _mel_sampled.y_train, _mel_sampled.y_test)"
   ]
  },
  {
   "cell_type": "code",
   "execution_count": 16,
   "metadata": {},
   "outputs": [
    {
     "name": "stdout",
     "output_type": "stream",
     "text": [
      "Train, sklearn, ours: 0.9747897074093999 0.8171003661003435\n",
      "Test, sklearn, ours: 0.8362731769319623 0.7943800569547488\n",
      "CPU times: user 5.79 s, sys: 76.1 ms, total: 5.87 s\n",
      "Wall time: 5.92 s\n"
     ]
    }
   ],
   "source": [
    "%%time\n",
    "\n",
    "compare_models(\n",
    "    sklearn.ensemble.RandomForestRegressor(n_estimators=100, random_state=RAND_STATE),\n",
    "    ensemble.RandomForestRegressor(n_estimators=100, sample_ratio=0.1, random_state=RAND_STATE),\n",
    "    _mel.X_train, _mel.X_test, _mel.y_train, _mel.y_test)"
   ]
  },
  {
   "cell_type": "code",
   "execution_count": null,
   "metadata": {},
   "outputs": [],
   "source": []
  }
 ],
 "metadata": {
  "kernelspec": {
   "display_name": "Python 3",
   "language": "python",
   "name": "python3"
  },
  "language_info": {
   "codemirror_mode": {
    "name": "ipython",
    "version": 3
   },
   "file_extension": ".py",
   "mimetype": "text/x-python",
   "name": "python",
   "nbconvert_exporter": "python",
   "pygments_lexer": "ipython3",
   "version": "3.7.2"
  }
 },
 "nbformat": 4,
 "nbformat_minor": 2
}
