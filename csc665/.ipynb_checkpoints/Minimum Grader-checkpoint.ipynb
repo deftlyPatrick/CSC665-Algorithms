{
 "cells": [
  {
   "cell_type": "code",
   "execution_count": 20,
   "metadata": {},
   "outputs": [
    {
     "ename": "SyntaxError",
     "evalue": "invalid syntax (<ipython-input-20-18aa7a193c4d>, line 4)",
     "output_type": "error",
     "traceback": [
      "\u001b[0;36m  File \u001b[0;32m\"<ipython-input-20-18aa7a193c4d>\"\u001b[0;36m, line \u001b[0;32m4\u001b[0m\n\u001b[0;31m    _inc.data_df = pd.read_csv(\"http://www-bcf.usc.edu/~gareth/ISL/Income2.csv\") _inc.data_df.drop(\"Unnamed: 0\", axis=1, inplace=True)\u001b[0m\n\u001b[0m                                                                                    ^\u001b[0m\n\u001b[0;31mSyntaxError\u001b[0m\u001b[0;31m:\u001b[0m invalid syntax\n"
     ]
    }
   ],
   "source": [
    "import requests \n",
    "import csv\n",
    "_inc = features.Object()\n",
    "_inc.data_df = pd.read_csv(\"http://www-bcf.usc.edu/~gareth/ISL/Income2.csv\") \n",
    "_inc.data_df.drop(\"Unnamed: 0\", axis=1, inplace=True)\n",
    "_inc.X = _inc.data_df.drop('Income', axis=1)\n",
    "_inc.y = _inc.data_df[\"Income\"].values\n",
    "_inc.X.head()\n",
    "_inc.train_size = int(_inc.X.shape[0] * 0.7) _inc.X_train = _inc.X[:_inc.train_size]\n",
    "_inc.y_train = _inc.y[:_inc.train_size]\n",
    "_inc.X_test = _inc.X[_inc.train_size:]\n",
    "_inc.y_test = _inc.y[_inc.train_size:]"
   ]
  },
  {
   "cell_type": "code",
   "execution_count": null,
   "metadata": {},
   "outputs": [],
   "source": []
  }
 ],
 "metadata": {
  "kernelspec": {
   "display_name": "Python 3",
   "language": "python",
   "name": "python3"
  },
  "language_info": {
   "codemirror_mode": {
    "name": "ipython",
    "version": 3
   },
   "file_extension": ".py",
   "mimetype": "text/x-python",
   "name": "python",
   "nbconvert_exporter": "python",
   "pygments_lexer": "ipython3",
   "version": "3.7.2"
  }
 },
 "nbformat": 4,
 "nbformat_minor": 2
}
